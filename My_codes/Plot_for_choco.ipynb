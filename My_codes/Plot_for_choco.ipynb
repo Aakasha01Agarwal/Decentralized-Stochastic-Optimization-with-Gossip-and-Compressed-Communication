{
 "cells": [
  {
   "cell_type": "code",
   "execution_count": 1,
   "id": "9398da82",
   "metadata": {},
   "outputs": [],
   "source": [
    "%load_ext autoreload\n",
    "%autoreload 2\n",
    "import sys\n",
    "\n",
    "from matplotlib import rc\n",
    "\n",
    "import matplotlib.pyplot as plt\n",
    "%matplotlib inline\n",
    "from sklearn.datasets import load_svmlight_file\n",
    "import numpy as np\n",
    "import pickle\n",
    "import glob\n",
    "import os\n",
    "\n",
    "from matplotlib.ticker import MaxNLocator\n",
    "\n",
    "from utils import unpickle_dir\n",
    "\n",
    "from constants import LOSS_PER_EPOCH\n",
    "\n",
    "LOG_SCALE = True"
   ]
  },
  {
   "cell_type": "code",
   "execution_count": 2,
   "id": "94a2b233",
   "metadata": {},
   "outputs": [],
   "source": [
    "optimums = unpickle_dir('dump/optimum-epsilon/')\n",
    "exact_optimum = optimums['baselines']['epsilon']"
   ]
  },
  {
   "cell_type": "code",
   "execution_count": 3,
   "id": "f85b6ff6",
   "metadata": {},
   "outputs": [],
   "source": [
    "n, d = 400000, 2000"
   ]
  },
  {
   "cell_type": "code",
   "execution_count": null,
   "id": "d513febb",
   "metadata": {},
   "outputs": [],
   "source": []
  },
  {
   "cell_type": "code",
   "execution_count": null,
   "id": "f2c1609f",
   "metadata": {},
   "outputs": [],
   "source": []
  },
  {
   "cell_type": "code",
   "execution_count": null,
   "id": "c52686ae",
   "metadata": {},
   "outputs": [],
   "source": []
  },
  {
   "cell_type": "code",
   "execution_count": 24,
   "id": "8aac8e24",
   "metadata": {},
   "outputs": [],
   "source": [
    "def plot_final(method, quantization, split_way, num_nodes,topology, label, display_name):\n",
    "    \n",
    "    data = unpickle_dir('dump/epsilon-final-' + method + \"-\" + quantization + (\"\" if len(quantization) == 0 else \"-\")\n",
    "                + split_way + \"-\" + str(num_nodes)+\"-\"+topology)\n",
    "    \n",
    "    x = (np.arange(0, len(data['results'][1]))-shift)/LOSS_PER_EPOCH\n",
    "#     print(x)\n",
    "#     print(data['results'])\n",
    "    \n",
    "    plt.plot(x, data['results'][1]-exact_optimum, label = display_name)\n",
    "    \n",
    "   \n",
    "\n",
    "    \n"
   ]
  },
  {
   "cell_type": "code",
   "execution_count": null,
   "id": "b8448242",
   "metadata": {},
   "outputs": [],
   "source": []
  },
  {
   "cell_type": "code",
   "execution_count": 1,
   "id": "1e4289d4",
   "metadata": {},
   "outputs": [
    {
     "ename": "NameError",
     "evalue": "name 'plot_final' is not defined",
     "output_type": "error",
     "traceback": [
      "\u001b[1;31m---------------------------------------------------------------------------\u001b[0m",
      "\u001b[1;31mNameError\u001b[0m                                 Traceback (most recent call last)",
      "Input \u001b[1;32mIn [1]\u001b[0m, in \u001b[0;36m<module>\u001b[1;34m\u001b[0m\n\u001b[0;32m     18\u001b[0m         \u001b[38;5;28;01mfor\u001b[39;00m quantization \u001b[38;5;129;01min\u001b[39;00m quantizations:\n\u001b[0;32m     20\u001b[0m             display_name \u001b[38;5;241m=\u001b[39m \u001b[38;5;124m'\u001b[39m\u001b[38;5;124mTopology \u001b[39m\u001b[38;5;124m'\u001b[39m \u001b[38;5;241m+\u001b[39m topology \u001b[38;5;241m+\u001b[39m \u001b[38;5;124m'\u001b[39m\u001b[38;5;124m: \u001b[39m\u001b[38;5;124m'\u001b[39m\u001b[38;5;241m+\u001b[39m \u001b[38;5;124m\"\u001b[39m\u001b[38;5;124mNodes - \u001b[39m\u001b[38;5;124m\"\u001b[39m\u001b[38;5;241m+\u001b[39m\u001b[38;5;28mstr\u001b[39m(num_node) \u001b[38;5;241m+\u001b[39m\u001b[38;5;124m\"\u001b[39m\u001b[38;5;124m: \u001b[39m\u001b[38;5;124m\"\u001b[39m\u001b[38;5;241m+\u001b[39m quantization \n\u001b[1;32m---> 22\u001b[0m             \u001b[43mplot_final\u001b[49m(method, quantization, split_way, num_node, topology, label, display_name )\n\u001b[0;32m     24\u001b[0m name \u001b[38;5;241m=\u001b[39m \u001b[38;5;124m\"\u001b[39m\u001b[38;5;124mdifferent quantization \u001b[39m\u001b[38;5;124m\"\u001b[39m \u001b[38;5;241m+\u001b[39m \u001b[38;5;28mstr\u001b[39m(num_node) \u001b[38;5;241m+\u001b[39m \u001b[38;5;124m'\u001b[39m\u001b[38;5;124m nodes \u001b[39m\u001b[38;5;124m'\u001b[39m \u001b[38;5;241m+\u001b[39m topology \u001b[38;5;241m+\u001b[39m \u001b[38;5;124m\"\u001b[39m\u001b[38;5;124m Topology\u001b[39m\u001b[38;5;124m\"\u001b[39m\n\u001b[0;32m     26\u001b[0m plt\u001b[38;5;241m.\u001b[39mlegend()\n",
      "\u001b[1;31mNameError\u001b[0m: name 'plot_final' is not defined"
     ]
    }
   ],
   "source": [
    "quantizations = [ \"qsgd-2bit\",\"qsgd-4bit\", \"qsgd-8bit\"]\n",
    "topologies = ['ring']\n",
    "num_nodes = [9, 25, 64]\n",
    "\n",
    "shift = 0\n",
    "method = \"choco\"\n",
    "label =  'decentralized' + \"\"\n",
    "display_name = []\n",
    "color = \"C0\"\n",
    "marker = 'o'\n",
    "markevery = 10\n",
    "\n",
    "for split_way in ['random']:\n",
    "    \n",
    "    for num_node in [25]:\n",
    "        \n",
    "        for topology in ['ring' ]:\n",
    "            for quantization in quantizations:\n",
    "\n",
    "                display_name = 'Topology ' + topology + ': '+ \"Nodes - \"+str(num_node) +\": \"+ quantization \n",
    "\n",
    "                plot_final(method, quantization, split_way, num_node, topology, label, display_name )\n",
    "\n",
    "    name = \"different quantization \" + str(num_node) + ' nodes ' + topology + \" Topology\"\n",
    "            \n",
    "    plt.legend()\n",
    "    plt.yscale(\"log\")\n",
    "#     plt.ylim(5e-4, 2)\n",
    "#     plt.xscale(\"log\")\n",
    "    plt.xlabel('epoch')\n",
    "    plt.ylabel('')\n",
    "    plt.ylabel(\"training suboptimality\")\n",
    "#     plt.savefig(name, dpi =1000)\n",
    "    "
   ]
  },
  {
   "cell_type": "code",
   "execution_count": null,
   "id": "1f6874f2",
   "metadata": {},
   "outputs": [],
   "source": []
  },
  {
   "cell_type": "code",
   "execution_count": null,
   "id": "490cae12",
   "metadata": {},
   "outputs": [],
   "source": []
  }
 ],
 "metadata": {
  "kernelspec": {
   "display_name": "Python 3 (ipykernel)",
   "language": "python",
   "name": "python3"
  },
  "language_info": {
   "codemirror_mode": {
    "name": "ipython",
    "version": 3
   },
   "file_extension": ".py",
   "mimetype": "text/x-python",
   "name": "python",
   "nbconvert_exporter": "python",
   "pygments_lexer": "ipython3",
   "version": "3.9.10"
  }
 },
 "nbformat": 4,
 "nbformat_minor": 5
}
