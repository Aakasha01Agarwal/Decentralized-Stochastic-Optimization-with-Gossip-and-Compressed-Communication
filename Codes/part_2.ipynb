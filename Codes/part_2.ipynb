{
 "cells": [
  {
   "cell_type": "code",
   "execution_count": 1,
   "id": "ff0dcb1c",
   "metadata": {},
   "outputs": [],
   "source": [
    "import numpy as np"
   ]
  },
  {
   "cell_type": "code",
   "execution_count": 2,
   "id": "5ee32a50",
   "metadata": {},
   "outputs": [],
   "source": [
    "%load_ext autoreload\n",
    "%autoreload 2\n",
    "import sys\n",
    "\n",
    "from matplotlib import rc\n",
    "\n",
    "import matplotlib.pyplot as plt\n",
    "%matplotlib inline\n",
    "from sklearn.datasets import load_svmlight_file\n",
    "import numpy as np\n",
    "import pickle\n",
    "import glob\n",
    "import os\n",
    "\n",
    "from matplotlib.ticker import MaxNLocator\n",
    "\n",
    "from utils import unpickle_dir\n",
    "\n",
    "from constants import LOSS_PER_EPOCH\n",
    "\n",
    "LOG_SCALE = True"
   ]
  },
  {
   "cell_type": "code",
   "execution_count": 3,
   "id": "e5a6ad24",
   "metadata": {},
   "outputs": [],
   "source": [
    "optimums = unpickle_dir('dump/optimum-epsilon/')\n",
    "exact_optimum = optimums['baselines']['epsilon']"
   ]
  },
  {
   "cell_type": "code",
   "execution_count": 4,
   "id": "dbb1357c",
   "metadata": {},
   "outputs": [
    {
     "data": {
      "text/plain": [
       "0.2822915437266857"
      ]
     },
     "execution_count": 4,
     "metadata": {},
     "output_type": "execute_result"
    }
   ],
   "source": [
    "exact_optimum"
   ]
  },
  {
   "cell_type": "code",
   "execution_count": 5,
   "id": "d90d9aef",
   "metadata": {},
   "outputs": [],
   "source": [
    "n, d = 400000, 2000"
   ]
  },
  {
   "cell_type": "code",
   "execution_count": 6,
   "id": "3576810c",
   "metadata": {},
   "outputs": [],
   "source": [
    "def plot_final(method, quantization, split_way, num_nodes,topology, label, display_name):\n",
    "    \n",
    "    data = unpickle_dir('dump/epsilon-final-' + method + \"-\" + quantization + (\"\" if len(quantization) == 0 else \"-\")\n",
    "                + split_way + \"-\" + str(num_nodes)+topology)\n",
    "    \n",
    "    x = (np.arange(0, len(data['results'][1]))-shift)/LOSS_PER_EPOCH\n",
    "#     print(x)\n",
    "#     print(data['results'])\n",
    "    \n",
    "    plt.plot(x, data['results'][1]-exact_optimum, label = display_name)\n",
    "   \n",
    "\n",
    "    \n"
   ]
  },
  {
   "cell_type": "code",
   "execution_count": 7,
   "id": "f8613159",
   "metadata": {},
   "outputs": [],
   "source": [
    "def plot_scores_vs_bits(data, label, quantization, num_nodes, shift=0, display_name=None,\n",
    "                        ):\n",
    "    print(display_name)\n",
    "    scores = data[\"results\"][1]\n",
    "    print(data[\"results\"][1].shape[0])\n",
    "    scores[data == 0] = 1e20\n",
    "    scores[np.isinf(scores)] = 1e20\n",
    "    scores[np.isnan(scores)] = 1e20\n",
    "    if quantization == \"random-20\":\n",
    "        num_bits_array = n / LOSS_PER_EPOCH * np.arange(data[\"results\"][1].shape[0] - shift) * 64 * (2 ) * 20+ 1#1e+8\n",
    "    elif quantization == \"top-20\":\n",
    "        num_bits_array = n / LOSS_PER_EPOCH * np.arange(data[\"results\"][1].shape[0] - shift) * (64 + 11) * (2 ) * 20+ 1#1e+8\n",
    "    elif quantization == \"\":\n",
    "        num_bits_array = n / LOSS_PER_EPOCH * np.arange(data[\"results\"][1].shape[0] - shift) * 64 * (2) * d +1#1e+8\n",
    "    elif quantization == \"qsgd-4bit\":\n",
    "        num_bits_array = n / LOSS_PER_EPOCH * np.arange(data[\"results\"][1].shape[0] - shift) * (4 + 1) * (2 ) * d + 1#1e+8\n",
    "    elif quantization == \"qsgd-2bit\":\n",
    "        num_bits_array = n / LOSS_PER_EPOCH * np.arange(data[\"results\"][1].shape[0] - shift) * (2 + 1) * (2 ) * d + 1#1e+8\n",
    "    elif quantization == \"qsgd-8bit\":\n",
    "        num_bits_array = n / LOSS_PER_EPOCH * np.arange(data[\"results\"][1].shape[0] - shift) * (8 + 1) * (2 ) * d + 1#1e+8\n",
    "    \n",
    "    print(len(num_bits_array))\n",
    "    plt.plot(num_bits_array,\n",
    "             scores - exact_optimum, label=display_name)\n",
    "    scores[scores > 1e10] = np.inf\n",
    "   \n",
    "\n",
    "\n",
    "def plot_final_vs_bits(method, quantization, split_way, num_nodes,topology ,label, display_name):\n",
    "    data = unpickle_dir('dump/epsilon-final-' + method + \"-\" + quantization + (\"\" if len(quantization) == 0 else \"-\")\n",
    "                    + split_way + \"-\" + str(num_nodes)+topology)\n",
    "    plot_scores_vs_bits(data, label, quantization, num_nodes, display_name=display_name)"
   ]
  },
  {
   "cell_type": "code",
   "execution_count": 43,
   "id": "02cfb529",
   "metadata": {},
   "outputs": [
    {
     "data": {
      "image/png": "[encoded data removed]",
      "text/plain": [
       "<Figure size 432x288 with 1 Axes>"
      ]
     },
     "metadata": {
      "needs_background": "light"
     },
     "output_type": "display_data"
    }
   ],
   "source": [
    "quantizations = [ \"qsgd-4bit\", \"qsgd-8bit\"]\n",
    "topologies = ['ring', 'star', 'random']\n",
    "num_nodes = [9, 25, 64]\n",
    "\n",
    "shift = 0\n",
    "method = \"dcd\"\n",
    "label =  'decentralized' + \"\"\n",
    "display_name = []\n",
    "color = \"C0\"\n",
    "marker = 'o'\n",
    "markevery = 10\n",
    "\n",
    "for split_way in ['random']:\n",
    "    \n",
    "    for num_node in [9]:\n",
    "        \n",
    "        for topology in ['star']:\n",
    "            for quantization in quantizations:\n",
    "\n",
    "                display_name = 'Topology ' + topology + ': '+ \"Nodes - \"+str(num_node) +\": \"+ quantization \n",
    "\n",
    "                plot_final(method, quantization, split_way, num_node, topology, label, display_name )\n",
    "\n",
    "    name = \"different quantization \" + str(num_node) + ' nodes ' + topology + \" Topology\"\n",
    "            \n",
    "    plt.legend()\n",
    "    plt.yscale(\"log\")\n",
    "#     plt.ylim(5e-4, 2)\n",
    "#     plt.xscale(\"log\")\n",
    "    plt.xlabel('epoch')\n",
    "    plt.ylabel('')\n",
    "    plt.ylabel(\"training suboptimality\")\n",
    "    plt.savefig(name, dpi =1000)\n",
    "    "
   ]
  },
  {
   "cell_type": "markdown",
   "id": "483967f8",
   "metadata": {},
   "source": [
    "Plot vs bits\n"
   ]
  },
  {
   "cell_type": "code",
   "execution_count": null,
   "id": "a58f5853",
   "metadata": {},
   "outputs": [],
   "source": []
  },
  {
   "cell_type": "code",
   "execution_count": null,
   "id": "28cd9b3a",
   "metadata": {},
   "outputs": [],
   "source": []
  },
  {
   "cell_type": "code",
   "execution_count": null,
   "id": "a1a42b30",
   "metadata": {},
   "outputs": [],
   "source": []
  }
 ],
 "metadata": {
  "kernelspec": {
   "display_name": "Python 3 (ipykernel)",
   "language": "python",
   "name": "python3"
  },
  "language_info": {
   "codemirror_mode": {
    "name": "ipython",
    "version": 3
   },
   "file_extension": ".py",
   "mimetype": "text/x-python",
   "name": "python",
   "nbconvert_exporter": "python",
   "pygments_lexer": "ipython3",
   "version": "3.9.10"
  }
 },
 "nbformat": 4,
 "nbformat_minor": 5
}
